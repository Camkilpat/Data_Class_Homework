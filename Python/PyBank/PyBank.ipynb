{
 "cells": [
  {
   "cell_type": "code",
   "execution_count": 41,
   "metadata": {},
   "outputs": [],
   "source": [
    "import os\n",
    "import csv"
   ]
  },
  {
   "cell_type": "code",
   "execution_count": 42,
   "metadata": {},
   "outputs": [],
   "source": [
    "total_months = 0\n",
    "net_amount = 0\n",
    "monthly_change = []\n",
    "month_count = []\n",
    "greatest_inc = 0\n",
    "greatest_inc_month = 0\n",
    "greatest_dec = 0\n",
    "greatest_dec_month = 0"
   ]
  },
  {
   "cell_type": "code",
   "execution_count": 43,
   "metadata": {},
   "outputs": [],
   "source": [
    "csvpath = os.path.join('Resources', 'budget_data.csv')"
   ]
  },
  {
   "cell_type": "code",
   "execution_count": 44,
   "metadata": {},
   "outputs": [],
   "source": [
    "with open(csvpath, newline = '') as csvfile:\n",
    "    csvreader = csv.reader(csvfile, delimiter = ',')\n",
    "    csv_header = next(csvreader)\n",
    "    row = next(csvreader)\n",
    "    \n",
    "    previous_row = int(row[1])\n",
    "    total_months += 1\n",
    "    net_amount = net_amount + int(row[1])\n",
    "    greatest_inc = int(row[1])\n",
    "    greatest_month_inc = row[0]\n",
    "\n",
    "    for row in csvreader:\n",
    "        total_months += 1\n",
    "        net_amount += int(row[1])\n",
    "        \n",
    "    revenue_change = int(row[1]) - previous_row\n",
    "    monthly_change.append(revenue_change)\n",
    "    previous_row = int(row[1])\n",
    "    month_count.append(row[0])\n",
    "    \n",
    "    if int(row[1]) > greatest_inc:\n",
    "        greatest_inc = int(row[1])\n",
    "        greatest_inc_month = row[0]\n",
    "    \n",
    "    if int(row[1]) < greatest_dec:\n",
    "        greatest_dec = int(row[1])\n",
    "        greatest_dec_month = row[0]"
   ]
  },
  {
   "cell_type": "code",
   "execution_count": 45,
   "metadata": {},
   "outputs": [],
   "source": [
    "average_change = sum(monthly_change)/len(monthly_change)"
   ]
  },
  {
   "cell_type": "code",
   "execution_count": 46,
   "metadata": {},
   "outputs": [],
   "source": [
    "highest = max(monthly_change)\n",
    "lowest = min(monthly_change)"
   ]
  },
  {
   "cell_type": "code",
   "execution_count": 47,
   "metadata": {},
   "outputs": [],
   "source": [
    "output = (\n",
    "    f\"\\nFinancial Analysis\\n\"\n",
    "    f\"---------------------------\\n\"\n",
    "    f\"Total Months: {total_months}\\n\"\n",
    "    f\"Total: ${net_amount}\\n\"\n",
    "    f\"Average Change: ${average_change:.2f}\\n\"\n",
    "    f\"Greatest Increase in Profits: {greatest_inc_month},(${highest})\\n\"\n",
    "    f\"Greatest Decrease in Profits: {greatest_dec_month},(${lowest})\\n\")"
   ]
  },
  {
   "cell_type": "code",
   "execution_count": 48,
   "metadata": {},
   "outputs": [
    {
     "name": "stdout",
     "output_type": "stream",
     "text": [
      "\n",
      "Financial Analysis\n",
      "---------------------------\n",
      "Total Months: 86\n",
      "Total: $38382578\n",
      "Average Change: $-196785.00\n",
      "Greatest Increase in Profits: 0,($-196785)\n",
      "Greatest Decrease in Profits: 0,($-196785)\n",
      "\n"
     ]
    }
   ],
   "source": [
    "print(output)"
   ]
  },
  {
   "cell_type": "code",
   "execution_count": 49,
   "metadata": {},
   "outputs": [],
   "source": [
    "output_file = os.path.join('Resources','budget_data_revised.text')"
   ]
  },
  {
   "cell_type": "code",
   "execution_count": 50,
   "metadata": {},
   "outputs": [],
   "source": [
    "with open(output_file, \"w\") as txt_file:\n",
    "    txt_file.write(output)"
   ]
  }
 ],
 "metadata": {
  "kernelspec": {
   "display_name": "Python 3",
   "language": "python",
   "name": "python3"
  },
  "language_info": {
   "codemirror_mode": {
    "name": "ipython",
    "version": 3
   },
   "file_extension": ".py",
   "mimetype": "text/x-python",
   "name": "python",
   "nbconvert_exporter": "python",
   "pygments_lexer": "ipython3",
   "version": "3.7.4"
  }
 },
 "nbformat": 4,
 "nbformat_minor": 2
}
