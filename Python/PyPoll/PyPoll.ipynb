{
 "cells": [
  {
   "cell_type": "code",
   "execution_count": 1,
   "metadata": {},
   "outputs": [],
   "source": [
    "import os\n",
    "import csv"
   ]
  },
  {
   "cell_type": "code",
   "execution_count": 2,
   "metadata": {},
   "outputs": [],
   "source": [
    "total_votes = 0\n",
    "khan_votes = 0\n",
    "correy_votes = 0\n",
    "li_votes = 0\n",
    "otooley_votes = 0"
   ]
  },
  {
   "cell_type": "code",
   "execution_count": 3,
   "metadata": {},
   "outputs": [],
   "source": [
    "csvpath = os.path.join('Resources','election_data.csv')"
   ]
  },
  {
   "cell_type": "code",
   "execution_count": 4,
   "metadata": {},
   "outputs": [],
   "source": [
    "with open(csvpath, newline='') as csvfile:\n",
    "    csvreader = csv.reader(csvfile, delimiter = ',')\n",
    "    csv_header = next(csvfile)\n",
    "    \n",
    "    for row in csvreader:\n",
    "        total_votes += 1\n",
    "        \n",
    "        if (row[2] == \"Khan\"):\n",
    "            khan_votes += 1\n",
    "        elif (row[2] == \"Correy\"):\n",
    "            correy_votes += 1\n",
    "        elif (row[2] == \"Li\"):\n",
    "            li_votes += 1\n",
    "        else:\n",
    "            otooley_votes += 1\n",
    "            \n",
    "    kahn_percent = khan_votes / total_votes\n",
    "    correy_percent = correy_votes / total_votes\n",
    "    li_percent = li_votes / total_votes\n",
    "    otooley_percent = otooley_votes / total_votes\n",
    "    \n",
    "    winner = max(khan_votes, correy_votes, li_votes, otooley_votes)\n",
    "    \n",
    "    if winner == khan_votes:\n",
    "        winner_name = \"Khan\"\n",
    "    elif winner == correy_votes:\n",
    "        winner_name = \"Correy\"\n",
    "    elif winner == li_votes:\n",
    "        winner_name = \"Li\"\n",
    "    else:\n",
    "        winner_name = \"O'Tooley\" "
   ]
  },
  {
   "cell_type": "code",
   "execution_count": 6,
   "metadata": {},
   "outputs": [],
   "source": [
    "output = (\n",
    "    f\"\\nElection Results\\n\"\n",
    "    f\"------------------------\\n\"\n",
    "    f\"Total Votes: {total_votes}\\n\"\n",
    "    f\"------------------------\\n\"\n",
    "    f\"Kahn: {kahn_percent:.3%}({khan_votes})\\n\"\n",
    "    f\"Correy: {correy_percent:.3%}({correy_votes})\\n\"\n",
    "    f\"Li: {li_percent:.3%}({li_votes})\\n\"\n",
    "    f\"O'Tooley: {otooley_percent:.3%}({otooley_votes})\\n\"\n",
    "    f\"------------------------\\n\"\n",
    "    f\"Winner: {winner_name}\\n\"\n",
    "    f\"------------------------\\n\")"
   ]
  },
  {
   "cell_type": "code",
   "execution_count": 7,
   "metadata": {},
   "outputs": [
    {
     "name": "stdout",
     "output_type": "stream",
     "text": [
      "\n",
      "Election Results\n",
      "------------------------\n",
      "Total Votes: 3521001\n",
      "------------------------\n",
      "Kahn: 63.000%(2218231)\n",
      "Correy: 20.000%(704200)\n",
      "Li: 14.000%(492940)\n",
      "O'Tooley: 3.000%(105630)\n",
      "------------------------\n",
      "Winner: Khan\n",
      "------------------------\n",
      "\n"
     ]
    }
   ],
   "source": [
    "print(output)"
   ]
  },
  {
   "cell_type": "code",
   "execution_count": 8,
   "metadata": {},
   "outputs": [],
   "source": [
    "output_file = os.path.join('Resources', 'election_data_revised.text')"
   ]
  },
  {
   "cell_type": "code",
   "execution_count": 9,
   "metadata": {},
   "outputs": [],
   "source": [
    "with open(output_file, \"w\") as txt_file:\n",
    "    txt_file.write(output)"
   ]
  },
  {
   "cell_type": "code",
   "execution_count": null,
   "metadata": {},
   "outputs": [],
   "source": []
  }
 ],
 "metadata": {
  "kernelspec": {
   "display_name": "Python 3",
   "language": "python",
   "name": "python3"
  },
  "language_info": {
   "codemirror_mode": {
    "name": "ipython",
    "version": 3
   },
   "file_extension": ".py",
   "mimetype": "text/x-python",
   "name": "python",
   "nbconvert_exporter": "python",
   "pygments_lexer": "ipython3",
   "version": "3.7.4"
  }
 },
 "nbformat": 4,
 "nbformat_minor": 2
}
